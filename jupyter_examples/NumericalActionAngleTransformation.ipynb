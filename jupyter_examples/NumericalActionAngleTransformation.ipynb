{
 "cells": [
  {
   "cell_type": "code",
   "execution_count": 1,
   "metadata": {},
   "outputs": [
    {
     "name": "stderr",
     "output_type": "stream",
     "text": [
      "/Users/shadden/anaconda/lib/python3.6/site-packages/h5py/__init__.py:34: FutureWarning: Conversion of the second argument of issubdtype from `float` to `np.floating` is deprecated. In future, it will be treated as `np.float64 == np.dtype(float).type`.\n",
      "  from ._conv import register_converters as _register_converters\n"
     ]
    }
   ],
   "source": [
    "import numpy as np\n",
    "import sys\n",
    "sys.path+=['../']\n",
    "from IntegrableResonanceModel import IntegrableResonanceModel\n",
    "from scipy.optimize import root_scalar\n",
    "from scipy.integrate import solve_ivp\n",
    "import matplotlib.pyplot as plt\n",
    "%matplotlib inline"
   ]
  },
  {
   "cell_type": "markdown",
   "metadata": {},
   "source": [
    "# Determination of Dynamical Frequencies\n",
    "This notebook provides code for computing the dynamical frequencies \n",
    "dynamical frequencies $\\Omega_\\text{res} \\equiv \\frac{\\partial H_0}{\\partial {\\cal J}}$\n",
    "and $\\Omega_\\text{sec} \\equiv \\frac{\\partial H_0}{\\partial {\\cal J}^*}$\n",
    "where $({\\cal J},{\\cal J}^*)$ actions defined by the transformation:\n",
    "\n",
    "$$\n",
    "{\\cal J} = \\frac{1}{2\\pi}\\oint Jd\\theta~~;~~\\zeta =\\frac{2\\pi}{T_\\text{res}}t \\\\\n",
    "{\\cal J}^* =J^* ~~;~~\\zeta^*=\\theta^*+\\rho({\\zeta};{\\cal J}^*,{\\cal J})\n",
    "$$\n",
    "\n",
    "The algorithm is based on <a href=https://ui.adsabs.harvard.edu/abs/1990CeMDA..49...43H/abstract>Henrard (1990)</a>."
   ]
  },
  {
   "cell_type": "code",
   "execution_count": 2,
   "metadata": {
    "collapsed": true
   },
   "outputs": [],
   "source": [
    "#           ****** Note *******\n",
    "# Computing accurate secular frequencies can\n",
    "# sometimes require increasing the number of \n",
    "# quadrature points, 'n_quad_pts'\n",
    "res_model=IntegrableResonanceModel(3,1,n_quad_pts=61)"
   ]
  },
  {
   "cell_type": "code",
   "execution_count": 3,
   "metadata": {
    "collapsed": true
   },
   "outputs": [],
   "source": [
    "# Convenience function that will be used for event-monitoring\n",
    "# by scipy.integrate.solve_ivp\n",
    "def event(t,y,J0):\n",
    "    \"\"\"\n",
    "    Determine when J returns to initial\n",
    "    value, J0\n",
    "    \"\"\"\n",
    "    J = y[2]\n",
    "    return J - J0\n",
    "def calc_frequencies(delta_theta,Jstar,res_model,full_output = False):\n",
    "    \"\"\"\n",
    "    Determine the dynamical frequencies associated with \n",
    "    initial libration amplitude delta_thetaand conserved \n",
    "    quantity Jstar.\n",
    "    \n",
    "    Based on Henrard (1990, doi: 10.1007/BF00048581).\n",
    "    \n",
    "    The equations of motion are integrated until the trajectory\n",
    "    returns to it's initial value of J  (with the additional\n",
    "    condtion that dJ/dt has the same sign as it does initially).\n",
    "    The time it takes for J to return to its initial value is\n",
    "    the simply libration period. \n",
    "    \n",
    "    The secular frequency is determined as follows:\n",
    "    the angle $\\theta^*$ is related to the canonical \n",
    "    action-angle variables $({\\cal J},\\zeta,I^*,\\phi^*)$ by: \n",
    "    \n",
    "    $$\n",
    "        \\theta^* = \\phi^* + \\rho(\\zeta; I^*,{\\cal J})\n",
    "    $$\n",
    "    \n",
    "    where $\\rho$ is a 2pi periodic function of $\\zeta$.\n",
    "    Therefore, after one libration period,\n",
    "    $$\n",
    "     \\theta^* = \\phi^*(0) + \\frac{\\Omega_{sec}}\\times T\n",
    "    $$\n",
    "    where T is the libration period. The secular frequency\n",
    "    can then be determined from the change in \\theta^* over\n",
    "    one libration period.\n",
    "    \n",
    "    Arguments\n",
    "    ---------\n",
    "    delta_theta : float\n",
    "        Intial libration amplitude.\n",
    "        \n",
    "    Returns\n",
    "    -------\n",
    "    Omega_res : float\n",
    "        Frequency of (J,theta) degree of freedom.\n",
    "        \n",
    "    Omega_sec : float\n",
    "        Frequency of (J*,theta*) degree of freedom.\n",
    "        This is the mean precession rate of theta*.\n",
    "        Note that this Omega_sec differs from the one\n",
    "        defined in the paper by eps*b_s\n",
    "        \n",
    "    Notes\n",
    "    -----\n",
    "    Trajectories are initialized with\n",
    "        y0 = [np.pi + delta_theta,0,J_eq,Jstar]\n",
    "    Strictly speaking, \n",
    "       $$ J  \\ne J_eq $$ \n",
    "    when $\\theta$ is at it's maximum libration value\n",
    "    so the *true* libration amplitude may differ \n",
    "    slightly from the user-specified value 'delta_theta'.\n",
    "    However, this difference is generally negligible.\n",
    "    \"\"\"\n",
    "    # Symmetric in libration amplitude\n",
    "    delta_theta = np.abs(delta_theta) \n",
    "    assert delta_theta <= np.pi, \"Not a valid libration amplitude!\"\n",
    "    \n",
    "    # Set ICs \n",
    "    y0 = res_model.elliptic_fixed_point(Jstar)\n",
    "    y0[0] += delta_theta / res_model.k\n",
    "    J0 = y0[2]\n",
    "    \n",
    "    # At fixed point, get freq. of linearized system\n",
    "    if np.isclose(delta_theta,0):\n",
    "        fvec = res_model.flow_vec(y0)\n",
    "        jac = res_model.flow_jac(y0)\n",
    "        Omega_res = np.max(np.imag(np.linalg.eigvals(jac)))\n",
    "        Omega_sec = fvec[1]\n",
    "        \n",
    "    # For libration ampltiude of pi, take \n",
    "    # secular frequency at usntable fixed point\n",
    "    # and set Omega_res = 0\n",
    "    elif np.isclose(delta_theta,np.pi):\n",
    "        Omega_res = 0\n",
    "        yunst = res_model.unstable_fixed_point(Jstar)\n",
    "        Omega_sec = res_model.flow_vec(yunst)[1]\n",
    "        \n",
    "    # ... otherwise do integration\n",
    "    else:\n",
    "        # Stop when J returns to J0 with the proper dJ/dt direction\n",
    "        eventfn = lambda t,y: event(t,y,J0-1e-14)\n",
    "        eventfn.terminal=True\n",
    "        eventfn.direction = +1\n",
    "        sol = solve_ivp(lambda t,y: res_model.flow_vec(y),\n",
    "                        t_span=(0,np.inf),\n",
    "                        y0=y0,\n",
    "                        jac=lambda t,y: res_model.flow_jac(y),\n",
    "                        method='Radau',\n",
    "                        events=[eventfn]                       \n",
    "                       )\n",
    "\n",
    "        # Resonant libration period/freq. \n",
    "        T = sol.t_events[0][0]\n",
    "        Omega_res = 2 * np.pi / T \n",
    "\n",
    "        # Get state at t=T. \n",
    "        # Annoyingly, this is not actually\n",
    "        # returned by the previous call to solve_ivp.\n",
    "        sol2 = solve_ivp(lambda t,y: res_model.flow_vec(y),\n",
    "                        t_span=(sol.t[-1],T),\n",
    "                        y0=sol.y[:,-1],\n",
    "                        jac=lambda t,y: res_model.flow_jac(y),\n",
    "                        method='Radau'\n",
    "                        )\n",
    "        theta_star_final = sol2.y[1][-1]\n",
    "        Omega_sec = theta_star_final / T\n",
    "    if full_output:\n",
    "        return Omega_res,Omega_sec,sol\n",
    "    return Omega_res,Omega_sec"
   ]
  },
  {
   "cell_type": "code",
   "execution_count": 4,
   "metadata": {},
   "outputs": [
    {
     "data": {
      "text/plain": [
       "<matplotlib.text.Text at 0x12dd937b8>"
      ]
     },
     "execution_count": 4,
     "metadata": {},
     "output_type": "execute_result"
    },
    {
     "data": {
      "image/png": "[encoded data removed]",
      "text/plain": [
       "<matplotlib.figure.Figure at 0x12de43940>"
      ]
     },
     "metadata": {
      "needs_background": "light"
     },
     "output_type": "display_data"
    }
   ],
   "source": [
    "fig,ax = plt.subplots(2,sharex=True,figsize=(6,4))\n",
    "plt.subplots_adjust(hspace=0.01)\n",
    "\n",
    "amps = np.linspace(0,5*np.pi/6,20)\n",
    "for Z0 in [0.05,0.1,0.2]:\n",
    "    Jstar = res_model.Zsq_to_J * (Z0)**2\n",
    "    Omega_res,Omega_sec = np.zeros((2,len(amps))) \n",
    "    for i,amp in enumerate(amps):\n",
    "        Omega_res[i],Omega_sec[i]= calc_frequencies(amp,Jstar,res_model)\n",
    "    ax[0].plot(amps,Omega_res)\n",
    "    ax[1].plot(amps,Omega_sec)\n",
    "\n",
    "# NOTE: Omega_sec needs to be corrected with\n",
    "# addition of $\\epsilon * b_s$ \n",
    "a_s,b_s,c_s = res_model.secular_coeffs()\n",
    "eps_bs = b_s * res_model.eps\n",
    "Omega_sec += eps_bs\n",
    "\n",
    "ax[1].set_xticks([0,np.pi/4,np.pi/2,3*np.pi/4,np.pi])\n",
    "ax[1].xaxis.set_ticklabels([\"0\",r\"$\\pi/4$\",r\"$\\pi/2$\",r\"$3\\pi/4$\",r\"$\\pi$\"]);\n",
    "ax[0].set_title(\"{}:{} MMR;  $Z_0={:.2f}$\".format(res_model.j,res_model.j-res_model.k,Z0),fontsize = 18)\n",
    "ax[1].set_xlim(0,np.pi)\n",
    "ax[1].set_xlabel(\"Libration Amplitude\",fontsize=14)\n",
    "ax[0].set_ylabel(r\"$\\Omega_{res}$\",fontsize=14)\n",
    "ax[1].set_ylabel(r\"$\\Omega_{sec}$\",fontsize=14)"
   ]
  },
  {
   "cell_type": "markdown",
   "metadata": {},
   "source": [
    "# Full range of secular frequencies \n",
    "The frequency $\\Omega_\\text{sec}$ is a function of the resonant libration amplitude. \n",
    "The frequency will range from $\\Omega_\\text{sec,ell}$ to $\\Omega_\\text{sec,unst}$\n",
    "$$ \n",
    "\\Omega_\\text{sec,ell/unst} \\approx -A(J^*-J_\\text{ell/unst})/k^2 +\\epsilon b_s\n",
    "$$\n",
    "at the elliptic fixed point to "
   ]
  },
  {
   "cell_type": "code",
   "execution_count": 5,
   "metadata": {},
   "outputs": [
    {
     "name": "stderr",
     "output_type": "stream",
     "text": [
      "../IntegrableResonanceModel.py:410: RuntimeWarning: Search for elliptic fixed point did not converge!\n",
      "  warn( RuntimeWarning(\"Search for elliptic fixed point did not converge!\") )\n"
     ]
    },
    {
     "data": {
      "text/plain": [
       "<matplotlib.legend.Legend at 0x1301ace48>"
      ]
     },
     "execution_count": 5,
     "metadata": {},
     "output_type": "execute_result"
    },
    {
     "data": {
      "image/png": "[encoded data removed]",
      "text/plain": [
       "<matplotlib.figure.Figure at 0x12de20160>"
      ]
     },
     "metadata": {
      "needs_background": "light"
     },
     "output_type": "display_data"
    }
   ],
   "source": [
    "_,b_s,_ = res_model.secular_coeffs()\n",
    "for zfrac in [0.25,0.5,.75]:\n",
    "    \n",
    "    # Lists to store secular frequencies at the \n",
    "    # elliptic and unstable fixed points, respectively\n",
    "    OmegaEll, OmegaUnst =[], []\n",
    "    # Planet masses to consider\n",
    "    mpts = np.logspace(-5.5,-3.5)\n",
    "    for m in mpts:\n",
    "        res_model.m1 = m\n",
    "        res_model.m2 = m\n",
    "        _,_,Z0 = res_model.get_z1z2Z_from_zfrac(zfrac)\n",
    "        Jstar = res_model.Zsq_to_J * (Z0)**2\n",
    "        OmegaEll.append(calc_frequencies(0,Jstar,res_model)[1] + b_s * res_model.eps)\n",
    "        OmegaUnst.append(calc_frequencies(np.pi,Jstar,res_model)[1] + b_s * res_model.eps)\n",
    "    line, = plt.plot(mpts,OmegaEll,lw=3)\n",
    "    plt.plot(mpts,OmegaUnst,color=line.get_color(),lw=3)\n",
    "    plt.fill_between(mpts,OmegaEll,OmegaUnst,alpha = 0.5,label = \"{:.2f}\".format(zfrac),color=line.get_color())\n",
    "    \n",
    "plt.xscale('log')\n",
    "plt.axhline(0.0,color='k')\n",
    "plt.xlabel(\"Planets' Mass [$m_p/M_*$]\", fontsize=16)\n",
    "plt.ylabel(r\"$\\Omega_{sec} / n_2$ \", fontsize = 16)\n",
    "plt.title(r\"Range of $\\Omega_{sec}$\"+\", {}:{} MMR\".format(res_model.j,res_model.j-res_model.k))\n",
    "plt.legend(title=r\"$Z/Z_{cross}$\")"
   ]
  },
  {
   "cell_type": "code",
   "execution_count": null,
   "metadata": {
    "collapsed": true
   },
   "outputs": [],
   "source": []
  }
 ],
 "metadata": {
  "kernelspec": {
   "display_name": "Python 3",
   "language": "python",
   "name": "python3"
  },
  "language_info": {
   "codemirror_mode": {
    "name": "ipython",
    "version": 3
   },
   "file_extension": ".py",
   "mimetype": "text/x-python",
   "name": "python",
   "nbconvert_exporter": "python",
   "pygments_lexer": "ipython3",
   "version": "3.6.8"
  }
 },
 "nbformat": 4,
 "nbformat_minor": 2
}
