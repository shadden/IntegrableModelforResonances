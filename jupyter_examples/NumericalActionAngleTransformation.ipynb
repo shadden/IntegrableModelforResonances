{
 "cells": [
  {
   "cell_type": "code",
   "execution_count": 1,
   "metadata": {},
   "outputs": [
    {
     "name": "stderr",
     "output_type": "stream",
     "text": [
      "/Users/shadden/anaconda/lib/python3.6/site-packages/h5py/__init__.py:34: FutureWarning: Conversion of the second argument of issubdtype from `float` to `np.floating` is deprecated. In future, it will be treated as `np.float64 == np.dtype(float).type`.\n",
      "  from ._conv import register_converters as _register_converters\n"
     ]
    }
   ],
   "source": [
    "import numpy as np\n",
    "import sys\n",
    "sys.path+=['../']\n",
    "from IntegrableResonanceModel import IntegrableResonanceModel\n",
    "from scipy.optimize import root_scalar\n",
    "from scipy.integrate import solve_ivp\n",
    "import matplotlib.pyplot as plt\n",
    "%matplotlib inline"
   ]
  },
  {
   "cell_type": "code",
   "execution_count": 2,
   "metadata": {
    "collapsed": true
   },
   "outputs": [],
   "source": [
    "res_model=IntegrableResonanceModel(3,1)"
   ]
  },
  {
   "cell_type": "code",
   "execution_count": 3,
   "metadata": {
    "collapsed": true
   },
   "outputs": [],
   "source": [
    "\"\"\"\n",
    "For calls to solve_ivp variable order should be:\n",
    "    y[0] = theta\n",
    "    y[1] = theta*\n",
    "    y[2] = J\n",
    "    y[3] = J*\n",
    "\"\"\"\n",
    "\n",
    "def ydot(t,y):\n",
    "    \"\"\"\n",
    "    dy/dt for scipy.integrate.solve_ivp\n",
    "    \"\"\"\n",
    "    return res_model.flow_vec(y)\n",
    "\n",
    "def ydot_jac(t,y):\n",
    "    \"\"\"\n",
    "    grad[dy/dt] for scipy.integrate.solve_ivp\n",
    "    \"\"\"\n",
    "    return res_model.flow_jac(y)\n",
    "\n",
    "def event(t,y,J0):\n",
    "    \"\"\"\n",
    "    Determine when J returns to initial\n",
    "    value, J0\n",
    "    \"\"\"\n",
    "    J = y[2]\n",
    "    return J - J0\n",
    "\n"
   ]
  },
  {
   "cell_type": "code",
   "execution_count": 4,
   "metadata": {
    "collapsed": true
   },
   "outputs": [],
   "source": [
    "def calc_frequencies(delta_theta,Jstar):\n",
    "    \"\"\"\n",
    "    Determine the dynamical frequencies associated with \n",
    "    initial libration amplitude delta_thetaand conserved \n",
    "    quantity Jstar.\n",
    "    \n",
    "    Based on Henrard (1990, doi: 10.1007/BF00048581).\n",
    "    \n",
    "    The equations of motion are integrated until the trajectory\n",
    "    returns to it's initial value of J  (with the additional\n",
    "    condtion that dJ/dt has the same sign as it does initially).\n",
    "    The time it takes for J to return to its initial value is\n",
    "    the simply libration period. \n",
    "    \n",
    "    The secular frequency is determined as follows:\n",
    "    the angle $\\theta^*$ is related to the canonical \n",
    "    action-angle variables $({\\cal J},\\zeta,I^*,\\phi^*)$ by: \n",
    "    \n",
    "    $$\n",
    "        \\theta^* = \\phi^* + \\rho(\\zeta; I^*,{\\cal J})\n",
    "    $$\n",
    "    \n",
    "    where $\\rho$ is a 2pi periodic function of $\\zeta$.\n",
    "    Therefore, after one libration period,\n",
    "    $$\n",
    "     \\theta^* = \\phi^*(0) + \\frac{\\Omega_{sec}}\\times T\n",
    "    $$\n",
    "    where T is the libration period. The secular frequency\n",
    "    can then be determined from the change in \\theta^* over\n",
    "    one libration period.\n",
    "    \n",
    "    Arguments\n",
    "    ---------\n",
    "    delta_theta : float\n",
    "        Intial libration amplitude.\n",
    "        \n",
    "    Returns\n",
    "    -------\n",
    "    Omega_res : float\n",
    "        Frequency of (J,theta) degree of freedom.\n",
    "        \n",
    "    Omega_sec : float\n",
    "        Frequency of (J*,theta*) degree of freedom.\n",
    "        This is the mean precession rate of theta*.\n",
    "        Note that this Omega_sec differs from the one\n",
    "        defined in the paper by eps*b_s\n",
    "        \n",
    "    Notes\n",
    "    -----\n",
    "    Trajectories are initialized with\n",
    "        y0 = [np.pi + delta_theta,0,J_eq,Jstar]\n",
    "    Strictly speaking, \n",
    "       $$ J  \\ne J_eq $$ \n",
    "    when $\\theta$ is at it's maximum libration value\n",
    "    so the *true* libration amplitude may differ \n",
    "    slightly from the user-specified value 'delta_theta'.\n",
    "    However, this difference is generally negligible.\n",
    "    \"\"\"\n",
    "    # Symmetric in libration amplitude\n",
    "    delta_theta = np.abs(delta_theta)\n",
    "    assert delta_theta <= np.pi, \"Not a valid libration amplitude!\"\n",
    "    \n",
    "    # Set ICs \n",
    "    y0 = res_model.elliptic_fixed_point(Jstar)\n",
    "    y0[0] += delta_theta\n",
    "    J0 = y0[2]\n",
    "    \n",
    "    # At fixed point, get freq. of linearized system\n",
    "    if np.isclose(delta_theta,0):\n",
    "        fvec = res_model.flow_vec(y0)\n",
    "        jac = res_model.flow_jac(y0)\n",
    "        Omega_res = np.max(np.imag(np.linalg.eigvals(jac)))\n",
    "        Omega_sec = fvec[1]\n",
    "        \n",
    "    # For libration ampltiude of pi, take \n",
    "    # secular frequency at usntable fixed point\n",
    "    # and set Omega_res = 0\n",
    "    elif np.isclose(delta_theta,np.pi):\n",
    "        Omega_res = 0\n",
    "        yunst = res_model.unstable_fixed_point(Jstar)\n",
    "        Omega_sec = res_model.flow_vec(yunst)[1]\n",
    "        \n",
    "    # ... otherwise do integration\n",
    "    else:\n",
    "        # Stop when J returns to J0 with the proper dJ/dt direction\n",
    "        eventfn = lambda t,y: event(t,y,J0-1e-14)\n",
    "        eventfn.terminal=True\n",
    "        eventfn.direction = +1\n",
    "        sol = solve_ivp(ydot,\n",
    "                        t_span=(0,np.inf),\n",
    "                        y0=y0,\n",
    "                        jac=ydot_jac,\n",
    "                        method='Radau',\n",
    "                        events=[eventfn]                       \n",
    "                       )\n",
    "\n",
    "        # Resonant libration period/freq. \n",
    "        T = sol.t_events[0][0]\n",
    "        Omega_res = 2 * np.pi / T \n",
    "\n",
    "        # Get state at t=T. \n",
    "        # Annoyingly, this is not actually\n",
    "        # returned by the previous call to solve_ivp.\n",
    "        sol2 = solve_ivp(ydot,\n",
    "                        t_span=(sol.t[-1],T),\n",
    "                        y0=sol.y[:,-1],\n",
    "                        jac=ydot_jac,\n",
    "                        method='Radau'\n",
    "                        )\n",
    "        theta_star_final = sol2.y[1][-1]\n",
    "        Omega_sec = theta_star_final / T\n",
    "\n",
    "    return Omega_res,Omega_sec"
   ]
  },
  {
   "cell_type": "code",
   "execution_count": 12,
   "metadata": {},
   "outputs": [
    {
     "data": {
      "text/plain": [
       "<matplotlib.text.Text at 0x1306375f8>"
      ]
     },
     "execution_count": 12,
     "metadata": {},
     "output_type": "execute_result"
    },
    {
     "data": {
      "image/png": "[encoded data removed]",
      "text/plain": [
       "<matplotlib.figure.Figure at 0x1304fe208>"
      ]
     },
     "metadata": {
      "needs_background": "light"
     },
     "output_type": "display_data"
    }
   ],
   "source": [
    "fig,ax = plt.subplots(2,sharex=True,figsize=(6,4))\n",
    "plt.subplots_adjust(hspace=0.01)\n",
    "\n",
    "amps = np.linspace(0,5*np.pi/6,20)\n",
    "for Z0 in [0.05,0.1,0.2]:\n",
    "    Jstar = res_model.Zsq_to_J * (Z0)**2\n",
    "    Omega_res,Omega_sec = np.zeros((2,len(amps))) \n",
    "    for i,amp in enumerate(amps):\n",
    "        Omega_res[i],Omega_sec[i]= calc_frequencies(amp,Jstar)\n",
    "    ax[0].plot(amps,Omega_res)\n",
    "    ax[1].plot(amps,Omega_sec)\n",
    "# NOTE: Omega_sec needs to be corrected with\n",
    "# addition of $\\epsilon * b_s$ \n",
    "ax[1].set_xticks([0,np.pi/4,np.pi/2,3*np.pi/4,np.pi])\n",
    "ax[1].xaxis.set_ticklabels([\"0\",r\"$\\pi/4$\",r\"$\\pi/2$\",r\"$3\\pi/4$\",r\"$\\pi$\"]);\n",
    "ax[0].set_title(\"{}:{} MMR;  $Z_0={:.2f}$\".format(res_model.j,res_model.j-res_model.k,Z0),fontsize = 18)\n",
    "ax[1].set_xlim(0,np.pi)\n",
    "ax[1].set_xlabel(\"Libration Amplitude\",fontsize=14)\n",
    "ax[0].set_ylabel(r\"$\\Omega_{res}$\",fontsize=14)\n",
    "ax[1].set_ylabel(r\"$\\Omega_{sec}$\",fontsize=14)"
   ]
  },
  {
   "cell_type": "code",
   "execution_count": null,
   "metadata": {
    "collapsed": true
   },
   "outputs": [],
   "source": []
  }
 ],
 "metadata": {
  "kernelspec": {
   "display_name": "Python 3",
   "language": "python",
   "name": "python3"
  },
  "language_info": {
   "codemirror_mode": {
    "name": "ipython",
    "version": 3
   },
   "file_extension": ".py",
   "mimetype": "text/x-python",
   "name": "python",
   "nbconvert_exporter": "python",
   "pygments_lexer": "ipython3",
   "version": "3.6.8"
  }
 },
 "nbformat": 4,
 "nbformat_minor": 2
}
