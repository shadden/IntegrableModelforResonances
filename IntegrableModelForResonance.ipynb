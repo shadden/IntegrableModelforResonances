{
 "cells": [
  {
   "cell_type": "code",
   "execution_count": 1,
   "metadata": {
    "scrolled": true
   },
   "outputs": [
    {
     "name": "stderr",
     "output_type": "stream",
     "text": [
      "/Users/shadden/anaconda/lib/python3.6/site-packages/h5py/__init__.py:34: FutureWarning: Conversion of the second argument of issubdtype from `float` to `np.floating` is deprecated. In future, it will be treated as `np.float64 == np.dtype(float).type`.\n",
      "  from ._conv import register_converters as _register_converters\n"
     ]
    }
   ],
   "source": [
    "import numpy as np\n",
    "import theano\n",
    "import theano.tensor as T\n",
    "from theano import function\n",
    "from exoplanet.theano_ops.kepler import KeplerOp\n",
    "import matplotlib.pyplot as plt\n",
    "from celmech.disturbing_function import get_fg_coeffs\n",
    "%matplotlib inline"
   ]
  },
  {
   "cell_type": "code",
   "execution_count": 2,
   "metadata": {
    "collapsed": true
   },
   "outputs": [],
   "source": [
    "def getOmegaMatrix(n):\n",
    "    \"\"\"\n",
    "    Get the 2n x 2n skew-symmetric block matrix:\n",
    "          [0 , I_n]\n",
    "          [-I_, 0 ]\n",
    "    that appears in Hamilton's equations.\n",
    "    \n",
    "    Arguments\n",
    "    ---------\n",
    "    n : int\n",
    "        Determines matrix dimension\n",
    "    \n",
    "    Returns\n",
    "    -------\n",
    "    numpy.array\n",
    "    \"\"\"\n",
    "    return np.vstack(\n",
    "        (\n",
    "        np.concatenate([np.zeros((n,n)),np.eye(n)]).T,\n",
    "        np.concatenate([-np.eye(n),np.zeros((n,n))]).T\n",
    "    )\n",
    "    )\n",
    "    "
   ]
  },
  {
   "cell_type": "code",
   "execution_count": 3,
   "metadata": {
    "collapsed": true
   },
   "outputs": [],
   "source": [
    "def calc_DisturbingFunction_with_sinf_cosf(alpha,e1,e2,w1,w2,sinf1,cosf1,sinf2,cosf2):\n",
    "    \"\"\"\n",
    "    Compute the value of the disturbing function \n",
    "    .. math::\n",
    "        \\frac{a'}{|r-r'|} - a'\\frac{r.r'}{|r'^3|}\n",
    "    from a set of input orbital elements for coplanar planets.\n",
    "    \n",
    "    Arguments\n",
    "    ---------\n",
    "    alpha : float\n",
    "        semi-major axis ratio\n",
    "    e1 : float\n",
    "        inner eccentricity\n",
    "    e2 : float\n",
    "        outer eccentricity\n",
    "    w1 : float\n",
    "        inner long. of peri\n",
    "    w2 : float\n",
    "        outer long. of peri\n",
    "    sinf1 : float\n",
    "        sine of inner planet true anomaly\n",
    "    cosf1 : float\n",
    "        cosine of inner planet true anomaly\n",
    "    sinf2 : float\n",
    "        sine of outer planet true anomaly\n",
    "    cosf2 : float\n",
    "        cosine of outer planet true anomaly\n",
    "    \n",
    "    Returns\n",
    "    -------\n",
    "    float :\n",
    "        Disturbing function value \n",
    "    \"\"\"\n",
    "    r1 = alpha * (1-e1*e1) /(1 + e1 * cosf1)\n",
    "    _x1 = r1 * cosf1\n",
    "    _y1 = r1 * sinf1 \n",
    "    Cw1 = T.cos(w1)\n",
    "    Sw1 = T.sin(w1)\n",
    "    x1 = Cw1 * _x1  - Sw1 * _y1\n",
    "    y1 = Sw1 * _x1  + Cw1 * _y1\n",
    "\n",
    "    r2 = (1-e2*e2) /(1 + e2 * cosf2)\n",
    "    _x2 = r2 * cosf2\n",
    "    _y2 = r2 * sinf2\n",
    "    Cw2 = T.cos(w2)\n",
    "    Sw2 = T.sin(w2)\n",
    "    x2 = Cw2 * _x2  - Sw2 * _y2\n",
    "    y2 = Sw2 * _x2  + Cw2 * _y2\n",
    "\n",
    "    # direct term\n",
    "    dx = (x2 - x1)\n",
    "    dy = (y2 - y1)\n",
    "    dr2 = dx*dx + dy*dy\n",
    "    direct = 1 / T.sqrt(dr2)\n",
    "\n",
    "    # indirect term\n",
    "    r1dotr = (x2 * x1 + y2 * y1)\n",
    "    r1sq = x2*x2 + y2*y2\n",
    "    r1_3 = 1 / r1sq / T.sqrt(r1sq)\n",
    "    indirect = -1 * r1dotr * r1_3\n",
    "\n",
    "    return direct+indirect"
   ]
  },
  {
   "cell_type": "markdown",
   "metadata": {},
   "source": [
    "# Numerical calculation of the Hamiltonian and its derivatives\n",
    "\n",
    "The code below computes the integrable Hamiltonian\n",
    " $$    {\\cal H}(J,\\theta; J^*) = \n",
    "    -\\frac{1}{2k^2}A(J-J^*)^2 + H'_\\text{res}(J,\\theta) \n",
    " $$\n",
    "  \n",
    "where \n",
    "$$\n",
    "H'_\\text{res}(J,\\theta) = -2\\epsilon  R_{\\text{res},W=0}\n",
    "$$\n",
    "and $R_{\\text{res},W=0}$ is computed via numerical quadrature. \n",
    "\n",
    "The equations of motion,\n",
    "$$\n",
    "\\frac{d}{dt}\\{\\theta,\\theta^*,J,J^*\\} = \\Omega\\cdot \\nabla_{\\{\\theta,\\theta^*,J,J^*\\}} {\\cal H}\n",
    "$$\n",
    "and their Jacobian,\n",
    "$$\n",
    "\\Omega\\nabla^2{\\cal H}\n",
    "$$\n",
    "are also computed using Theano.\n",
    "\n"
   ]
  },
  {
   "cell_type": "code",
   "execution_count": 52,
   "metadata": {
    "collapsed": true
   },
   "outputs": [],
   "source": [
    "##############################\n",
    "# Set up Theano variables\n",
    "##############################\n",
    "\n",
    "# Integers to set resonance as j:j-k\n",
    "j,k = T.lscalars('jk')\n",
    "\n",
    "# Planet masses: m1,m2\n",
    "m1,m2 = T.dscalars(2)\n",
    "\n",
    "# Constants in Eq. (11)\n",
    "f,g = T.dscalars(2)\n",
    "\n",
    "# Planet and star mass variables\n",
    "Mstar = 1\n",
    "mu1 = m1 / (Mstar + m1)\n",
    "mu2 = m2 / (Mstar + m2)\n",
    "eps = m1 * mu2 / (mu1 + mu2) / Mstar\n",
    "\n",
    "# Resonant semi-major axis ratio\n",
    "alpha = ((j-k)/j)**(2/3) * ((Mstar + m1) / (Mstar+m2))**(1/3)\n",
    "\n",
    "# Constants in Eq. (15)\n",
    "fTilde = T.sqrt((mu1+mu2) / (mu1 * T.sqrt(alpha))) * f\n",
    "gTilde = T.sqrt((mu1+mu2) / mu2 ) * g\n",
    "\n",
    "# Constant in Eq. (8)\n",
    "A = 1.5 * j * (mu1 + mu2) * (j / mu2 + (j-k) / mu1 / T.sqrt(alpha) )\n",
    "\n",
    "# Dynamical variables:\n",
    "dyvars = T.vector()\n",
    "theta,theta_star,J,J_star = [dyvars[i] for i in range(4)]\n",
    "\n",
    "# Angle variable to average disturbing function over\n",
    "kappa = T.dvector()\n",
    "\n",
    "# Quadrature weights\n",
    "quad_weights = T.dvector('w')\n",
    "\n",
    "# Convert dynamical variables to eccentricities and angles:\n",
    "# Note: \n",
    "#   Q isset to zero since it does not \n",
    "#   enter disturbing function except in combinations\n",
    "#   with z and w.\n",
    "Q = T.as_tensor(0)  \n",
    "z = Q / k - theta\n",
    "\n",
    "# See Eq. 20\n",
    "Zsq = J * (fTilde*fTilde + gTilde*gTilde) / (f*f+g*g)\n",
    "Z = T.sqrt(Zsq)\n",
    "\n",
    "# Set W to zero\n",
    "Wsinw,Wcosw = 0, 0\n",
    "Zsinz,Zcosz = Z * T.sin(z), Z * T.cos(z)\n",
    "\n",
    "# Convert Z and W to planet eccentricities\n",
    "atan_f_g = T.arctan2(g , f)\n",
    "c,s = T.cos(atan_f_g),T.sin(atan_f_g)\n",
    "\n",
    "e1cos = c * Zcosz - s * Wcosw\n",
    "e1sin = c * Zsinz - s * Wsinw\n",
    "\n",
    "e2cos = s * Zcosz + c * Wcosw\n",
    "e2sin = s * Zsinz + c * Wsinw\n",
    "\n",
    "w1 = T.arctan2(e1sin,e1cos)\n",
    "w2 = T.arctan2(e2sin,e2cos)\n",
    "\n",
    "e1 = T.sqrt(e1sin*e1sin + e1cos*e1cos)\n",
    "e2 = T.sqrt(e2sin*e2sin + e2cos*e2cos)\n",
    "\n",
    "# Planets' mean longitudes\n",
    "l1 = Q / k - j * kappa\n",
    "l2 = Q / k + (k-j) * kappa\n",
    "\n",
    "# Planets mean anomalies\n",
    "M1 = l1 - w1\n",
    "M2 = l2 - w2\n",
    "\n",
    "# Convert mean to true anomalies using \n",
    "# function 'exoplanet.theano_ops.kepler.KeplerOp'\n",
    "ko = KeplerOp()\n",
    "sinf1,cosf1 =  ko( M1, e1 + T.zeros_like(M1) )\n",
    "sinf2,cosf2 =  ko( M2, e2 + T.zeros_like(M2) )\n",
    "\n",
    "# Vector of distrubing function values with same dimension as kappa vector\n",
    "DFfull = calc_DisturbingFunction_with_sinf_cosf(alpha,e1,e2,w1,w2,sinf1,cosf1,sinf2,cosf2)\n",
    "\n",
    "# Average distrubing function by weighting values with user-specified \n",
    "# quadrature weights.\n",
    "DFav = DFfull.dot(quad_weights)\n",
    "\n",
    "# Hamiltonian\n",
    "Hkep = -0.5 * A/k/k * (J - J_star) * (J - J_star)\n",
    "Hres = -2 * eps * DFav\n",
    "\n",
    "# ******************IMPORTANT NOTE*************************\n",
    "# I have *NOT* subtraced off the secular component of \n",
    "# the disturbing function. This means that the Hamiltonian \n",
    "# differs slightly from the one defined in the paper. \n",
    "# This is generally of little consequence to the resonant\n",
    "# dynamics but should be borne in mind when exploring\n",
    "# secular dynamics.\n",
    "# *********************************************************\n",
    "H = Hkep + Hres \n",
    "\n",
    "# Gradient and hessian of Hamiltonian w.r.t. phase space variables\n",
    "gradHtot = T.grad(H,wrt=dyvars)\n",
    "hessHtot = theano.gradient.hessian(H,wrt=dyvars)\n",
    "\n",
    "# Flow vector and jacobian for equations of motion\n",
    "OmegaTens = T.as_tensor(getOmegaMatrix(2))\n",
    "H_flow_vec = OmegaTens.dot(gradHtot)\n",
    "H_flow_jac = OmegaTens.dot(hessHtot)\n",
    "\n"
   ]
  },
  {
   "cell_type": "code",
   "execution_count": 5,
   "metadata": {},
   "outputs": [],
   "source": [
    "#####################################################\n",
    "# Set parameters for compiling functions with Theano \n",
    "#####################################################\n",
    "\n",
    "# Set Gauss-Legendre quadrature order\n",
    "QUAD_ORDER = 40 \n",
    "\n",
    "# Get numerical quadrature nodes and weights\n",
    "nodes,weights = np.polynomial.legendre.leggauss(QUAD_ORDER)\n",
    "\n",
    "# Rescale for integration interval from [-1,1] to [-pi,pi]\n",
    "nodes = nodes * np.pi\n",
    "weights = weights * 0.5\n",
    "\n",
    "# Specify the j:j-k\n",
    "res_j,res_k = 3,1\n",
    "\n",
    "# Get f and g coefficient with celmech\n",
    "f_N,g_N = get_fg_coeffs(res_j,res_k)\n",
    "\n",
    "# Set default planet mass, if desired\n",
    "DEFAULT_MASS = 6e-6\n",
    "\n",
    "# 'ins' will set the inputs of Theano functions compiled below\n",
    "ins = [\n",
    "        dyvars,\n",
    "        theano.In(m1,name=\"m1\",value=DEFAULT_MASS),\n",
    "        theano.In(m2,name=\"m2\",value=DEFAULT_MASS)\n",
    "      ]\n",
    "\n",
    "# 'givens' will fix some parameters of Theano functions compiled below\n",
    "givens=[(j,res_j),\n",
    "        (k,res_k),\n",
    "        (f,f_N),\n",
    "        (g,g_N),\n",
    "        (kappa,nodes),\n",
    "        (quad_weights,weights)\n",
    "       ]"
   ]
  },
  {
   "cell_type": "code",
   "execution_count": 6,
   "metadata": {
    "collapsed": true
   },
   "outputs": [],
   "source": [
    "##########################\n",
    "# Compile Theano functions  \n",
    "##########################\n",
    "\n",
    "# Note that this may take a while...\n",
    "H_fn = theano.function(\n",
    "    inputs=ins,\n",
    "    outputs=H,\n",
    "    givens=givens\n",
    ")"
   ]
  },
  {
   "cell_type": "code",
   "execution_count": 7,
   "metadata": {
    "collapsed": true
   },
   "outputs": [],
   "source": [
    "H_flow_vec_fn = theano.function(\n",
    "    inputs=ins,\n",
    "    outputs=H_flow_vec,\n",
    "    givens=givens\n",
    ")\n",
    "\n",
    "H_flow_jac_fn = theano.function(\n",
    "    inputs=ins,\n",
    "    outputs=H_flow_jac,\n",
    "    givens=givens\n",
    ")"
   ]
  },
  {
   "cell_type": "markdown",
   "metadata": {},
   "source": [
    "# Hamiltonian contour plot\n",
    "\n",
    "The following code computes a grid of Hamiltonian values in variables $(\\Delta,\\theta)$ where\n",
    "$$\\Delta = \\frac{j-k}{j}\\frac{P_2}{P_1}-1$$\n",
    "for user-specified value of $J^*$. \n",
    "\n",
    "The value of $J^*$ is set by defining $Z_0$ so that\n",
    "$$\n",
    " J^* = \\frac{f^2+g^2}{(\\tilde{f})^2+(\\tilde{g})^2}Z_0^2~.\n",
    "$$\n",
    "This definition is motivated by Equation 20."
   ]
  },
  {
   "cell_type": "code",
   "execution_count": 14,
   "metadata": {},
   "outputs": [],
   "source": [
    "# Set Z0 \n",
    "Z0 = 0.15\n",
    "\n",
    "# Define grid to compute values on\n",
    "Ngrid = 128\n",
    "thetas = np.linspace(0*np.pi,2*np.pi,128)\n",
    "Deltas =  np.linspace(-0.01,0.01,Ngrid)\n",
    "\n",
    "# A dictionary for computing some useful \n",
    "# quantities for converting from dynamical\n",
    "# variables to more easily interpreted quanties.\n",
    "eval_dict = {m1:DEFAULT_MASS,\n",
    "             m2:DEFAULT_MASS,\n",
    "             j:res_j,\n",
    "             k:res_k,\n",
    "             f:f_N,\n",
    "             g:g_N\n",
    "            }\n",
    "\n",
    "# Equation 20:\n",
    "Zsq_to_J_Eq20 = (f*f + g*g) / (fTilde*fTilde + gTilde*gTilde)\n",
    "Zsq_to_J_Eq20 = Zsq_to_J_Eq20.eval(eval_dict)\n",
    "\n",
    "# Equation 21:\n",
    "dJ_to_Delta_Eq21 = 1.5 * (mu1+mu2) * (j * mu1*T.sqrt(alpha) + (j-k) * mu2) / (2*k*T.sqrt(alpha)*mu1*mu2)\n",
    "dJ_to_Delta_Eq21 = dJ_to_Delta_Eq21.eval({k:eval_dict[k] for k in [m1,m2,j,k]})\n",
    "\n",
    "Jstar = Zsq_to_J_Eq20 * Z0**2\n",
    "Js = Jstar + Deltas / dJ_to_Delta_Eq21"
   ]
  },
  {
   "cell_type": "code",
   "execution_count": 15,
   "metadata": {},
   "outputs": [],
   "source": [
    "Z0 = 0.1\n",
    "Z = np.reshape([H_fn([theta,0,J,Jstar]) for J in Js for theta in thetas],(Ngrid,Ngrid))\n",
    "X,Y = np.meshgrid(thetas,Deltas)"
   ]
  },
  {
   "cell_type": "code",
   "execution_count": 18,
   "metadata": {},
   "outputs": [],
   "source": [
    "################################################\n",
    "# Let's identify the fixed points and separatrix\n",
    "################################################\n",
    "from scipy.optimize import root_scalar\n",
    "\n",
    "def stable_root_rn(J,Jstar):\n",
    "    \"\"\"\n",
    "    Convenience function to look for the stable fixed point by finding\n",
    "        dtheta/dt = 0\n",
    "    searching in J with theta=\\pi.\n",
    "    Desinged for use with scipy.optimize.root_scalar\n",
    "    \"\"\"\n",
    "    y = np.array([np.pi,0,J,Jstar])\n",
    "    f = H_flow_vec_fn(y)[0]\n",
    "    df = H_flow_jac_fn(y)[0,2]\n",
    "    return f,df\n",
    "def unstable_root_rn(J,Jstar):\n",
    "    \"\"\"\n",
    "    Convenience function to look for the unstable root by finding\n",
    "        dtheta/dt = 0\n",
    "    searching in J with theta=0.\n",
    "    \n",
    "    Desinged for use with scipy.optimize.root_scalar\n",
    "    \"\"\"\n",
    "    y = np.array([0,0,J,Jstar])\n",
    "    f = H_flow_vec_fn(y)[0]\n",
    "    df = H_flow_jac_fn(y)[0,2]\n",
    "    return f,df\n",
    "\n",
    "\n",
    "rt_st = root_scalar(stable_root_rn,x0=Jstar,args=(Jstar),fprime=True)\n",
    "rt_unst = root_scalar(unstable_root_rn,x0=Jstar,args=(Jstar),fprime=True)\n",
    "\n",
    "\n",
    "Eunst = H_fn([0,0,rt_unst.root,Jstar])\n",
    "Est = H_fn([np.pi,0,rt_st.root,Jstar])\n",
    "\n",
    "\n",
    "\n",
    "Delta_St = dJ_to_Delta_Eq21 * (rt_st.root-Jstar)\n",
    "Delta_Unst = dJ_to_Delta_Eq21 * (rt_unst.root-Jstar)"
   ]
  },
  {
   "cell_type": "code",
   "execution_count": 28,
   "metadata": {},
   "outputs": [
    {
     "data": {
      "text/plain": [
       "<matplotlib.text.Text at 0x13a3455f8>"
      ]
     },
     "execution_count": 28,
     "metadata": {},
     "output_type": "execute_result"
    },
    {
     "data": {
      "image/png": "[encoded data removed]",
      "text/plain": [
       "<matplotlib.figure.Figure at 0x13a080400>"
      ]
     },
     "metadata": {
      "needs_background": "light"
     },
     "output_type": "display_data"
    }
   ],
   "source": [
    "plt.contour(X,Y,Z,np.linspace(Eunst,Est,6)[1:-1])\n",
    "plt.contour(X,Y,Z,[Eunst],linewidths=[3],colors=['r'],linestyles=['-'])\n",
    "plt.scatter(np.pi,Delta_St,marker='o',color='k',s=150)\n",
    "plt.scatter(0,Delta_Unst,marker='x',color='r',s=150)\n",
    "plt.scatter(2*np.pi,Delta_Unst,marker='x',color='r',s=150)\n",
    "plt.xlabel(r\"$\\theta$\",fontsize=16)\n",
    "plt.ylabel(r\"$\\Delta$\",fontsize=16)\n",
    "plt.xlim(0,2*np.pi)\n",
    "plt.xticks([0,np.pi/2,np.pi,3*np.pi/2,2*np.pi])\n",
    "ax = plt.gca()\n",
    "ax.xaxis.set_ticklabels([\"0\",r\"$\\pi/2$\",r\"$\\pi$\",r\"$3\\pi/2$\",r\"$2\\pi$\"]);\n",
    "plt.title(\"{}:{} MMR;  $Z_0={:.2f}$\".format(res_j,res_j-res_k,Z0),fontsize = 18)"
   ]
  },
  {
   "cell_type": "markdown",
   "metadata": {},
   "source": [
    "# Semi-analytic determination of secular frequencies"
   ]
  },
  {
   "cell_type": "code",
   "execution_count": 29,
   "metadata": {
    "collapsed": true
   },
   "outputs": [],
   "source": [
    "from scipy.integrate import solve_ivp"
   ]
  },
  {
   "cell_type": "code",
   "execution_count": 30,
   "metadata": {
    "collapsed": true
   },
   "outputs": [],
   "source": [
    "\"\"\"\n",
    "For calls to solve_ivp variable order should be:\n",
    "    y[0] = theta\n",
    "    y[1] = theta*\n",
    "    y[2] = J\n",
    "    y[3] = J*\n",
    "\"\"\"\n",
    "\n",
    "\n",
    "def ydot(t,y):\n",
    "    \"\"\"\n",
    "    dy/dt for scipy.integrate.solve_ivp\n",
    "    \"\"\"\n",
    "    return H_flow_vec_fn(y)\n",
    "\n",
    "def ydot_jac(t,y):\n",
    "    \"\"\"\n",
    "    grad[dy/dt] for scipy.integrate.solve_ivp\n",
    "    \"\"\"\n",
    "    return H_flow_jac_fn(y)\n",
    "\n",
    "def event(t,y,J0):\n",
    "    \"\"\"\n",
    "    Determine when J returns to initial\n",
    "    value, J0\n",
    "    \"\"\"\n",
    "    J = y[2]\n",
    "    return J - J0\n"
   ]
  },
  {
   "cell_type": "code",
   "execution_count": 31,
   "metadata": {
    "collapsed": true
   },
   "outputs": [],
   "source": [
    "def calc_frequencies(delta_theta,Jstar):\n",
    "    \"\"\"\n",
    "    Determine the dynamical frequencies associated with \n",
    "    initial libration amplitude delta_thetaand conserved \n",
    "    quantity Jstar.\n",
    "    \n",
    "    Based on Henrard (1990, doi: 10.1007/BF00048581).\n",
    "    \n",
    "    The equations of motion are integrated until the trajectory\n",
    "    returns to it's initial value of J  (with the additional\n",
    "    condtion that dJ/dt has the same sign as it does initially).\n",
    "    The time it takes for J to return to its initial value is\n",
    "    the simply libration period. \n",
    "    \n",
    "    The secular frequency is determined as follows:\n",
    "    the angle $\\theta^*$ is related to the canonical \n",
    "    action-angle variables $({\\cal J},\\zeta,I^*,\\phi^*)$ by: \n",
    "    \n",
    "    $$\n",
    "        \\theta^* = \\phi^* + \\rho(\\zeta; I^*,{\\cal J})\n",
    "    $$\n",
    "    \n",
    "    where $\\rho$ is a 2pi periodic function of $\\zeta$.\n",
    "    Therefore, after one libration period,\n",
    "    $$\n",
    "     \\theta^* = \\phi^*(0) + \\frac{\\Omega_{sec}}\\times T\n",
    "    $$\n",
    "    where T is the libration period. The secular frequency\n",
    "    can then be determined from the change in \\theta^* over\n",
    "    one libration period.\n",
    "    \n",
    "    Arguments\n",
    "    ---------\n",
    "    delta_theta : float\n",
    "        Intial libration amplitude.\n",
    "        \n",
    "    Returns\n",
    "    -------\n",
    "    Omega_res : float\n",
    "        Frequency of (J,theta) degree of freedom.\n",
    "        \n",
    "    Omega_sec : float\n",
    "        Frequency of (J*,theta*) degree of freedom.\n",
    "        This is the mean precession rate of theta*.\n",
    "        Note that this Omega_sec differs from the one\n",
    "        defined in the paper by eps*b_s\n",
    "        \n",
    "    Notes\n",
    "    -----\n",
    "    Trajectories are initialized with\n",
    "        y0 = [np.pi + delta_theta,0,J_eq,Jstar]\n",
    "    Strictly speaking, \n",
    "       $$ J  \\ne J_eq $$ \n",
    "    when $\\theta$ is at it's maximum libration value\n",
    "    so the *true* libration amplitude may differ \n",
    "    slightly from the user-specified value 'delta_theta'.\n",
    "    However, this difference is generally negligible.\n",
    "    \"\"\"\n",
    "    # Symmetric in libration amplitude\n",
    "    delta_theta = np.abs(delta_theta)\n",
    "    assert delta_theta <= np.pi, \"Not a valid libration amplitude!\"\n",
    "    \n",
    "    # J0 set to stable equilibrium value\n",
    "    # (Note: \n",
    "    rt = root_scalar(stable_root_rn,x0=Jstar,args=(Jstar),fprime=True)\n",
    "    J0 = rt.root\n",
    "    \n",
    "    # Inital conditions\n",
    "    y0 = [np.pi + delta_theta,0,J0,Jstar]\n",
    "    \n",
    "    # At fixed point, get freq. of linearized system\n",
    "    if np.isclose(delta_theta,0):\n",
    "        fvec = H_flow_vec_fn(y0)\n",
    "        jac = H_flow_jac_fn(y0)\n",
    "        Omega_res = np.max(np.imag(np.linalg.eigvals(jac)))\n",
    "        Omega_sec = fvec[1]\n",
    "        \n",
    "    # For libration ampltiude of pi, take \n",
    "    # secular frequency at usntable fixed point\n",
    "    # and set Omega_res = 0\n",
    "    elif np.isclose(delta_theta,np.pi):\n",
    "        Omega_res = 0\n",
    "        rt = root_scalar(unstable_root_rn,x0=Jstar,args=(Jstar),fprime=True)\n",
    "        Junst = rt.root\n",
    "        Omega_sec = H_flow_vec_fn([0,0,Junst,Jstar])[1]\n",
    "    # ... otherwise do integration\n",
    "    else:\n",
    "        # Stop when J returns to J0 with the proper dJ/dt direction\n",
    "        eventfn = lambda t,y: event(t,y,J0-1e-14)\n",
    "        eventfn.terminal=True\n",
    "        eventfn.direction = +1\n",
    "        sol = solve_ivp(ydot,\n",
    "                        t_span=(0,np.inf),\n",
    "                        y0=y0,\n",
    "                        jac=ydot_jac,\n",
    "                        method='Radau',\n",
    "                        events=[eventfn]                       \n",
    "                       )\n",
    "\n",
    "        # Resonant libration period/freq. \n",
    "        T = sol.t_events[0][0]\n",
    "        Omega_res = 2 * np.pi / T \n",
    "\n",
    "        # Get state at t=T. \n",
    "        # Annoyingly, this is not actually\n",
    "        # returned by the previous call to solve_ivp.\n",
    "        sol2 = solve_ivp(ydot,\n",
    "                        t_span=(sol.t[-1],T),\n",
    "                        y0=sol.y[:,-1],\n",
    "                        jac=ydot_jac,\n",
    "                        method='Radau'\n",
    "                        )\n",
    "        theta_star_final = sol2.y[1][-1]\n",
    "        Omega_sec = theta_star_final / T\n",
    "\n",
    "    return Omega_res,Omega_sec"
   ]
  },
  {
   "cell_type": "code",
   "execution_count": 32,
   "metadata": {
    "collapsed": true
   },
   "outputs": [],
   "source": [
    "# Secular Hamiltonian coefficients evaluated at alpha=a1/a2\n",
    "from celmech.disturbing_function import laplace_B\n",
    "\n",
    "def get_secular_f2_and_f10(alpha):\n",
    "    \"\"\"\n",
    "    Calculate f_{2} and f_{10}, the combinations\n",
    "    Laplace coefficients that appear in the secular\n",
    "    disturbing function at second order in eccentricity:\n",
    "    ..math::\n",
    "        R_\\text{sec} = f_2\\left(e_1^2 + e_2^2\\right) +\n",
    "                        f_{10} e_1 e_2\\cos(\\varpi_2-\\varpi_1)\n",
    "    \n",
    "    Arguments\n",
    "    ---------\n",
    "    alpha : float\n",
    "        The semi-major axis ratio.\n",
    "    \n",
    "    Returns\n",
    "    -------\n",
    "    f2 : float\n",
    "    f10 : float\n",
    "    \"\"\"\n",
    "    b01 = laplace_B.eval(1/2,0,1,alpha)\n",
    "    b02 = laplace_B.eval(1/2,0,2,alpha)\n",
    "    \n",
    "    b10 = laplace_B.eval(1/2,1,0,alpha)\n",
    "    b11 = laplace_B.eval(1/2,1,1,alpha)\n",
    "    b12 = laplace_B.eval(1/2,1,2,alpha)\n",
    "    \n",
    "    \n",
    "    \n",
    "    f2 = 0.25 * alpha * b01 + 0.125 * alpha * alpha * b02\n",
    "    f10 = 0.5 * b10 - 0.5 * alpha * b11 - 0.25 * alpha * alpha * b12\n",
    "    \n",
    "    return f2,f10\n",
    "\n"
   ]
  },
  {
   "cell_type": "code",
   "execution_count": 33,
   "metadata": {},
   "outputs": [],
   "source": [
    "# Calculate matrices appearing in B7-B9\n",
    "ang = T.arctan2(gTilde,fTilde)\n",
    "c,s = T.cos(ang),T.sin(ang)\n",
    "M2 = T.stacklists([[c,-s],[s,c]])\n",
    "M1 = T.stacklists([\n",
    "    [T.sqrt((mu1+mu2)/(mu1*T.sqrt(alpha))), 0 ],\n",
    "    [0,T.sqrt((mu1+mu2)  / mu2)]\n",
    "])\n",
    "M = M1.dot(M2)\n",
    "\n",
    "M = M.eval(eval_dict)\n",
    "\n",
    "f2,f10 = get_secular_f2_and_f10(\n",
    "    ((res_j-res_k)/res_j)**(2/3)\n",
    ")\n",
    "Smtrx = np.array([[f2,f10/2],[f10/2,f2]])\n",
    "\n",
    "# Coefficients a_s,b_s, and c_s defined in Eq. B11\n",
    "Q = 2 * np.transpose(M).dot( Smtrx.dot(M) )\n",
    "a_s = Q[0,0]\n",
    "b_s = Q[1,1]\n",
    "c_s = Q[0,1] + Q[1,0]\n",
    "\n",
    "eps_bs = eps.eval({m1:DEFAULT_MASS,m2:DEFAULT_MASS}) * b_s"
   ]
  },
  {
   "cell_type": "code",
   "execution_count": 34,
   "metadata": {},
   "outputs": [],
   "source": [
    "import glob\n",
    "from pickle import load\n",
    "squareArr = lambda x: x.reshape(60,60)\n",
    "filelist= glob.glob(\"../new_fmft_grids/fmft_results_j%d_k%d_W_6_newmass.pkl\"%(3,1))\n",
    "finame=filelist[0]\n",
    "with open(finame,\"rb\") as f:\n",
    "    results = load(f)\n",
    "freqs,amps,Imean,Y = np.array([x[1] for x in results]).T\n",
    "angle,_zfrac = np.array([x[0] for x in results]).T\n",
    "sqFreqs = squareArr(freqs)\n",
    "sqAmps = squareArr(amps)\n",
    "sqAngle = squareArr(angle)\n",
    "sqzfrac = squareArr(_zfrac)\n",
    "\n"
   ]
  },
  {
   "cell_type": "code",
   "execution_count": 35,
   "metadata": {
    "collapsed": true
   },
   "outputs": [],
   "source": [
    "Zcross = 0.18838859120485124 "
   ]
  },
  {
   "cell_type": "code",
   "execution_count": 50,
   "metadata": {},
   "outputs": [],
   "source": [
    "Npt = 25\n",
    "amps = np.linspace(0.1,np.pi-0.1,30)\n",
    "libration_amps = np.linspace(0,np.pi,Npt+1)[:-1]\n",
    "Omega_res,Omega_sec = np.zeros((2,3,Npt))\n",
    "for ii,Zstar in enumerate([0.25*Zcross,0.5*Zcross,0.75*Zcross]):\n",
    "    for i,amp in enumerate(libration_amps):\n",
    "        Jstar = Zsq_to_J_Eq20 * Zstar * Zstar\n",
    "        Omega_res[ii,i],Omega_sec[ii,i]=calc_frequencies(amp,Jstar)"
   ]
  },
  {
   "cell_type": "code",
   "execution_count": 51,
   "metadata": {},
   "outputs": [
    {
     "data": {
      "text/plain": [
       "(0, 20)"
      ]
     },
     "execution_count": 51,
     "metadata": {},
     "output_type": "execute_result"
    },
    {
     "data": {
      "image/png": "[encoded data removed]",
      "text/plain": [
       "<matplotlib.figure.Figure at 0x13ab49be0>"
      ]
     },
     "metadata": {
      "needs_background": "light"
     },
     "output_type": "display_data"
    }
   ],
   "source": [
    "for ii,Zstar in enumerate([0.25*Zcross,0.5*Zcross,0.75*Zcross]):\n",
    "    i = (np.abs(sqzfrac[:,0]-Zstar/Zcross)).argmin()\n",
    "    yN = 1e4*sqFreqs[i]\n",
    "    yA = 2*np.pi*1e4*(Omega_sec[ii]+eps_bs)\n",
    "    # yA = yA +(yN[0]-yA[0])\n",
    "    l, = plt.plot(sqAngle[i],yN,'--')\n",
    "    plt.plot(libration_amps,yA,color=l.get_color())\n",
    "plt.ylim(0,20)"
   ]
  },
  {
   "cell_type": "code",
   "execution_count": 39,
   "metadata": {},
   "outputs": [],
   "source": [
    "to_ecc_elements = theano.function(\n",
    "    inputs=ins,\n",
    "    outputs = [e1,e2,w1,w2],\n",
    "    givens=givens,\n",
    "    on_unused_input='ignore'\n",
    ")"
   ]
  },
  {
   "cell_type": "code",
   "execution_count": 40,
   "metadata": {
    "collapsed": true
   },
   "outputs": [],
   "source": [
    "import rebound as rb"
   ]
  },
  {
   "cell_type": "code",
   "execution_count": 42,
   "metadata": {
    "scrolled": true
   },
   "outputs": [],
   "source": [
    "Jstar = 0.0009993164619885892\n",
    "Jeq = root_scalar(stable_root_rn,args=(Jstar),fprime=True,x0=Jstar).root\n",
    "yeq = [np.pi,0,Jeq,Jstar]\n",
    "y0 = np.array(yeq) + np.array([1,0,0,0])"
   ]
  },
  {
   "cell_type": "code",
   "execution_count": 62,
   "metadata": {},
   "outputs": [],
   "source": [
    "e1N,e2N,w1N,w2N = to_ecc_elements(y0)\n",
    "sim = rb.Simulation()\n",
    "sim.add(m=1)\n",
    "sim.add(m=DEFAULT_MASS,e=e1N,pomega=w1N,l=0,P=(res_j-res_k)/res_j )\n",
    "sim.add(m=DEFAULT_MASS,e=e2N,pomega=w2N,l=0,P=1)\n",
    "\n",
    "Qrb,w1rb,w2rb= np.zeros((3,256))\n",
    "e1rb,e2rb = np.zeros((2,256))\n",
    "alpha_rb = np.zeros(256)\n",
    "times=np.linspace(0,1e3,256)\n",
    "ps = sim.particles\n",
    "for i,t in enumerate(times):\n",
    "    sim.integrate(t)\n",
    "    Qrb[i] = res_j * ps[2].l - (res_j-res_k) * ps[1].l\n",
    "    w1rb[i]=ps[1].pomega\n",
    "    w2rb[i]=ps[2].pomega\n",
    "    e1rb[i]=ps[1].e\n",
    "    e2rb[i]=ps[2].e\n",
    "    alpha_rb[i] = ps[1].a / ps[2].a\n",
    "zrb = np.angle( f_N * e1rb * np.exp(1j * w1rb) + g_N * e2rb * np.exp(1j * w2rb) )"
   ]
  },
  {
   "cell_type": "code",
   "execution_count": 63,
   "metadata": {
    "collapsed": true
   },
   "outputs": [],
   "source": [
    "fT,gT = T.stack(fTilde,gTilde).eval({m1:DEFAULT_MASS,m2:DEFAULT_MASS,f:f_N,g:g_N,j:res_j,k:res_k})"
   ]
  },
  {
   "cell_type": "code",
   "execution_count": 64,
   "metadata": {},
   "outputs": [],
   "source": [
    "Gamma1 = ps[1].m * ((res_j-res_k)/res_j)**(1/3) * e1rb**2\n",
    "Gamma2 = ps[2].m * e2rb**2\n",
    "\n",
    "phi = np.angle(fT * np.sqrt(Gamma1) * np.exp(-1j * w1rb) + gT * np.sqrt(Gamma2) * np.exp(-1j * w2rb))\n",
    "psi = np.angle(-1*gT * np.sqrt(Gamma1) * np.exp(-1j * w1rb) + fT * np.sqrt(Gamma2) * np.exp(-1j * w2rb))"
   ]
  },
  {
   "cell_type": "code",
   "execution_count": 65,
   "metadata": {
    "collapsed": true
   },
   "outputs": [],
   "source": [
    "sol = solve_ivp(\n",
    "    ydot,\n",
    "    y0=y0,\n",
    "    t_span=(times[0]*(2*np.pi),times[-1]*(2*np.pi)),\n",
    "    method='Radau',\n",
    "    jac=ydot_jac,\n",
    "    t_eval=times * (2*np.pi)\n",
    " )"
   ]
  },
  {
   "cell_type": "code",
   "execution_count": 66,
   "metadata": {},
   "outputs": [
    {
     "data": {
      "text/plain": [
       "(0, 6.283185307179586)"
      ]
     },
     "execution_count": 66,
     "metadata": {},
     "output_type": "execute_result"
    },
    {
     "data": {
      "image/png": "[encoded data removed]",
      "text/plain": [
       "<matplotlib.figure.Figure at 0x13c4303c8>"
      ]
     },
     "metadata": {
      "needs_background": "light"
     },
     "output_type": "display_data"
    }
   ],
   "source": [
    "plt.plot(times,np.mod(Qrb - zrb  ,2*np.pi))\n",
    "plt.plot(sol.t/(2*np.pi),sol.y[0])\n",
    "plt.ylim(0,2*np.pi)"
   ]
  },
  {
   "cell_type": "code",
   "execution_count": 70,
   "metadata": {},
   "outputs": [
    {
     "data": {
      "text/plain": [
       "[<matplotlib.lines.Line2D at 0x13c790860>]"
      ]
     },
     "execution_count": 70,
     "metadata": {},
     "output_type": "execute_result"
    },
    {
     "data": {
      "image/png": "[encoded data removed]",
      "text/plain": [
       "<matplotlib.figure.Figure at 0x13c790ef0>"
      ]
     },
     "metadata": {
      "needs_background": "light"
     },
     "output_type": "display_data"
    }
   ],
   "source": [
    "semianalytic_soln = sol.y[0]+sol.y[1] + eps_bs * sol.t\n",
    "nbody_soln = (phi-psi)\n",
    "plt.plot(times,nbody_soln-nbody_soln[0])\n",
    "plt.plot(sol.t/(2*np.pi),semianalytic_soln-semianalytic_soln[0])"
   ]
  },
  {
   "cell_type": "code",
   "execution_count": null,
   "metadata": {
    "collapsed": true
   },
   "outputs": [],
   "source": []
  }
 ],
 "metadata": {
  "kernelspec": {
   "display_name": "Python 3",
   "language": "python",
   "name": "python3"
  },
  "language_info": {
   "codemirror_mode": {
    "name": "ipython",
    "version": 3
   },
   "file_extension": ".py",
   "mimetype": "text/x-python",
   "name": "python",
   "nbconvert_exporter": "python",
   "pygments_lexer": "ipython3",
   "version": "3.6.8"
  }
 },
 "nbformat": 4,
 "nbformat_minor": 2
}
